{
  "nbformat": 4,
  "nbformat_minor": 0,
  "metadata": {
    "colab": {
      "provenance": [],
      "include_colab_link": true
    },
    "kernelspec": {
      "name": "python3",
      "display_name": "Python 3"
    },
    "language_info": {
      "name": "python"
    }
  },
  "cells": [
    {
      "cell_type": "markdown",
      "metadata": {
        "id": "view-in-github",
        "colab_type": "text"
      },
      "source": [
        "<a href=\"https://colab.research.google.com/github/ardaericoyud/Image-Classification/blob/main/Submission_Belajar_Machine_Learning__Image_Classification.ipynb\" target=\"_parent\"><img src=\"https://colab.research.google.com/assets/colab-badge.svg\" alt=\"Open In Colab\"/></a>"
      ]
    },
    {
      "cell_type": "markdown",
      "metadata": {
        "id": "olqQpwSts3Xk"
      },
      "source": [
        "<h1><center>INFORMASI DIRI</center></h1>\n",
        "\n",
        "\n",
        "**Arda Erico Yuda**\n",
        "\n",
        "![an image](https://img.icons8.com/material-two-tone/2x/incoming-call.png)\n",
        "**081338103363**\n",
        "\n",
        "![an image](https://img.icons8.com/fluent-systems-regular/2x/gmail.png)\n",
        "**ardaericoyudha00@gmail.com**\n",
        "\n",
        "![an image](https://img.icons8.com/material-rounded/2x/address.png)\n",
        "**Surabaya, Jawa Timur**\n",
        "\n",
        "![an image](https://img.icons8.com/fluent-systems-filled/2x/linkedin.png)\n",
        "[Linkedin](https://www.linkedin.com/in/ardaericoyud/)"
      ]
    },
    {
      "cell_type": "markdown",
      "metadata": {
        "id": "xTCxWQmTtaLq"
      },
      "source": [
        "<h1><center>Submission at Dicoding</center></h1>\n",
        "\n",
        "#### Klasifikasi Gambar\n",
        "\n",
        "Membuat program jaringan saraf tiruan menggunakan TensorFlow. Program harus mampu mengenali bentuk tangan yang membentuk gunting, batu, atau kertas."
      ]
    },
    {
      "cell_type": "code",
      "metadata": {
        "id": "UM0gXk1muOLR"
      },
      "source": [
        "# Mengimport Library yang digunakan\n",
        "import tensorflow as tf\n",
        "import zipfile,os,shutil\n",
        "import numpy as np\n",
        "from tensorflow.keras.optimizers import RMSprop\n",
        "from tensorflow.keras.preprocessing.image import ImageDataGenerator\n",
        "from tensorflow.keras.callbacks import TensorBoard, ModelCheckpoint\n",
        "from sklearn.model_selection import train_test_split\n",
        "import matplotlib.pyplot as plt"
      ],
      "execution_count": null,
      "outputs": []
    },
    {
      "cell_type": "code",
      "metadata": {
        "colab": {
          "base_uri": "https://localhost:8080/"
        },
        "id": "nC8EJbnQu2To",
        "outputId": "26b53da6-5848-44b3-bcf1-4bae79c7f80c"
      },
      "source": [
        "# Load Dataset dari website\n",
        "!wget --no-check-certificate \\\n",
        "        https://dicodingacademy.blob.core.windows.net/picodiploma/ml_pemula_academy/rockpaperscissors.zip \\\n",
        "        -O /tmp/rockpaperscissors.zip"
      ],
      "execution_count": null,
      "outputs": [
        {
          "output_type": "stream",
          "text": [
            "--2021-07-27 00:09:15--  https://dicodingacademy.blob.core.windows.net/picodiploma/ml_pemula_academy/rockpaperscissors.zip\n",
            "Resolving dicodingacademy.blob.core.windows.net (dicodingacademy.blob.core.windows.net)... 52.239.197.36\n",
            "Connecting to dicodingacademy.blob.core.windows.net (dicodingacademy.blob.core.windows.net)|52.239.197.36|:443... connected.\n",
            "HTTP request sent, awaiting response... 200 OK\n",
            "Length: 322873683 (308M) [application/zip]\n",
            "Saving to: ‘/tmp/rockpaperscissors.zip’\n",
            "\n",
            "/tmp/rockpapersciss 100%[===================>] 307.92M  17.0MB/s    in 22s     \n",
            "\n",
            "2021-07-27 00:09:37 (14.2 MB/s) - ‘/tmp/rockpaperscissors.zip’ saved [322873683/322873683]\n",
            "\n"
          ],
          "name": "stdout"
        }
      ]
    },
    {
      "cell_type": "markdown",
      "metadata": {
        "id": "G2WxWTBQyJeq"
      },
      "source": [
        "Karena Dataset masih dalam bentuk ZIP, kita perlu mengekstrak datanya. Kemudian mendefinisikan suatu direktori untuk data latih dan dan validasi\n"
      ]
    },
    {
      "cell_type": "code",
      "metadata": {
        "id": "ER-GktoGvJWX"
      },
      "source": [
        "#ekstrak dataset\n",
        "local_zip = '/tmp/rockpaperscissors.zip'\n",
        "zip_ref = zipfile.ZipFile(local_zip, 'r')\n",
        "zip_ref.extractall('/tmp')\n",
        "zip_ref.close()"
      ],
      "execution_count": null,
      "outputs": []
    },
    {
      "cell_type": "code",
      "metadata": {
        "id": "PqP3o0W8vXt3"
      },
      "source": [
        "# Penggunaan Callback mencegah overfitting dan menghentikan training setelah akurasi terpenuhi\n",
        "class myCallback(tf.keras.callbacks.Callback):\n",
        "  def on_epoch_end(self, epoch, logs={}):\n",
        "    if(logs.get('accuracy') > 0.97):\n",
        "      print(\"\\nAkurasi melewati 97%, hentikan proses training!\")\n",
        "      self.model.stop_training = True\n",
        "\n",
        "callbacks = myCallback()"
      ],
      "execution_count": null,
      "outputs": []
    },
    {
      "cell_type": "code",
      "metadata": {
        "id": "-qEfCGjsv_Ye"
      },
      "source": [
        "# split dataset kemudian membuat direktori\n",
        "base_dir = '/tmp/rockpaperscissors'\n",
        "train_dir = os.path.join(base_dir,'train')\n",
        "validation_dir = os.path.join(base_dir, 'val')\n",
        "roc_dir = os.path.join(base_dir,'rock')\n",
        "pap_dir = os.path.join(base_dir, 'paper')\n",
        "sci_dir = os.path.join(base_dir, 'scissors')"
      ],
      "execution_count": null,
      "outputs": []
    },
    {
      "cell_type": "code",
      "metadata": {
        "id": "u-WD_lZIwG49"
      },
      "source": [
        "os.mkdir(train_dir)\n",
        "os.mkdir(validation_dir)"
      ],
      "execution_count": null,
      "outputs": []
    },
    {
      "cell_type": "code",
      "metadata": {
        "id": "RS46Nj6FwUqN"
      },
      "source": [
        "train_roc = os.path.join(train_dir, 'rock')\n",
        "train_pap = os.path.join(train_dir, 'paper')\n",
        "train_sci = os.path.join(train_dir, 'scissors')\n",
        "val_roc = os.path.join(validation_dir, 'rock')\n",
        "val_pap = os.path.join(validation_dir, 'paper')\n",
        "val_sci = os.path.join(validation_dir, 'scissors')"
      ],
      "execution_count": null,
      "outputs": []
    },
    {
      "cell_type": "code",
      "metadata": {
        "id": "lR9d4GVUwVZ3"
      },
      "source": [
        "os.mkdir(train_roc)\n",
        "os.mkdir(train_pap)\n",
        "os.mkdir(train_sci)\n",
        "os.mkdir(val_roc)\n",
        "os.mkdir(val_pap)\n",
        "os.mkdir(val_sci)"
      ],
      "execution_count": null,
      "outputs": []
    },
    {
      "cell_type": "markdown",
      "metadata": {
        "id": "ERCkn9b_ySmE"
      },
      "source": [
        "Dari direktori yang ada, dibuat sub-kategori untuk menampung data training dan data validasi dengan pembagiannya 40% data validasi dari total dataset."
      ]
    },
    {
      "cell_type": "code",
      "metadata": {
        "id": "gY4qItm1wXqW"
      },
      "source": [
        "# train dan test split\n",
        "# memecah setiap direktori menjadi data train dan data validasi(validation 40% of dataset)\n",
        "train_roc_dir, val_roc_dir = train_test_split(os.listdir(roc_dir), test_size = 0.40)\n",
        "train_pap_dir, val_pap_dir = train_test_split(os.listdir(pap_dir), test_size = 0.40)\n",
        "train_sci_dir, val_sci_dir = train_test_split(os.listdir(sci_dir), test_size = 0.40)"
      ],
      "execution_count": null,
      "outputs": []
    },
    {
      "cell_type": "code",
      "metadata": {
        "id": "nTtBr-3kwv-t"
      },
      "source": [
        "for file in train_roc_dir:\n",
        "  shutil.copy(os.path.join(roc_dir, file), os.path.join(train_roc, file))\n",
        "for file in train_pap_dir:\n",
        "  shutil.copy(os.path.join(pap_dir,file), os.path.join(train_pap,file))\n",
        "for file in train_sci_dir:\n",
        "  shutil.copy(os.path.join(sci_dir,file), os.path.join(train_sci,file))\n",
        "for file in val_roc_dir:\n",
        "  shutil.copy(os.path.join(roc_dir, file), os.path.join(val_roc,file))\n",
        "for file in val_pap_dir:\n",
        "  shutil.copy(os.path.join(pap_dir,file), os.path.join(val_pap,file))\n",
        "for file in val_sci_dir:\n",
        "  shutil.copy(os.path.join(sci_dir,file), os.path.join(val_sci,file))"
      ],
      "execution_count": null,
      "outputs": []
    },
    {
      "cell_type": "markdown",
      "metadata": {
        "id": "eyR9paEkyamR"
      },
      "source": [
        "Untuk mempersiapkan data dan mengaugmentasi gambar dari data baru menggunakan Image Data Generator."
      ]
    },
    {
      "cell_type": "code",
      "metadata": {
        "id": "BDfH9ru1w8GN"
      },
      "source": [
        "# augmentation and generate image data\n",
        "train_datagen = ImageDataGenerator(\n",
        "    rescale = 1./255,\n",
        "    rotation_range = 20,\n",
        "    horizontal_flip = True,\n",
        "    shear_range = 0.2,\n",
        "    fill_mode = 'nearest',\n",
        ")\n",
        "test_datagen = ImageDataGenerator(\n",
        "    rescale = 1./225,\n",
        "    rotation_range = 20,\n",
        "    horizontal_flip = True,\n",
        "    vertical_flip = True,\n",
        "    shear_range = 0.2,\n",
        "    fill_mode = 'nearest'\n",
        ")"
      ],
      "execution_count": null,
      "outputs": []
    },
    {
      "cell_type": "code",
      "metadata": {
        "colab": {
          "base_uri": "https://localhost:8080/"
        },
        "id": "_IcI12_IxEZL",
        "outputId": "e8350020-537b-4c48-bb9b-5fc080a785b8"
      },
      "source": [
        "train_generator = train_datagen.flow_from_directory(\n",
        "    train_dir,\n",
        "    target_size=(150,150),\n",
        "    batch_size= 32,\n",
        "    class_mode='categorical'\n",
        ")\n",
        "\n",
        "validation_generator = test_datagen.flow_from_directory(\n",
        "    validation_dir,\n",
        "    target_size = (150,150),\n",
        "    batch_size = 32,\n",
        "    class_mode = 'categorical'\n",
        ")"
      ],
      "execution_count": null,
      "outputs": [
        {
          "output_type": "stream",
          "text": [
            "Found 1312 images belonging to 3 classes.\n",
            "Found 876 images belonging to 3 classes.\n"
          ],
          "name": "stdout"
        }
      ]
    },
    {
      "cell_type": "markdown",
      "metadata": {
        "id": "ShpHV68LyydK"
      },
      "source": [
        "Dari ukuran pembagian data validasi 40% dari total dataset, ditemukan: Data training memiliki 1312 sampel gambar dengan 3 class, dan Data validasi memiliki 876 sampel gambar dengan 3 class.\n",
        "\n",
        "Setelah data kita telah siap, kita bisa membangun arsitektur sebuah CNN."
      ]
    },
    {
      "cell_type": "code",
      "metadata": {
        "colab": {
          "base_uri": "https://localhost:8080/"
        },
        "id": "4aPg5-Q6xQeb",
        "outputId": "655a5cd3-1c4f-445c-84f7-a424128cf730"
      },
      "source": [
        "model = tf.keras.models.Sequential([\n",
        "  tf.keras.layers.Conv2D(32, (3,3), activation = 'relu', input_shape= (150,150,3)),\n",
        "  tf.keras.layers.MaxPooling2D(2,2),\n",
        "  tf.keras.layers.Conv2D(64,(3,3), activation= 'relu'),\n",
        "  tf.keras.layers.MaxPooling2D(2,2),\n",
        "  tf.keras.layers.Conv2D(128,(3,3), activation= 'relu'),\n",
        "  tf.keras.layers.MaxPooling2D(2,2),\n",
        "  tf.keras.layers.Flatten(),\n",
        "  tf.keras.layers.Dropout(0.5),\n",
        "  tf.keras.layers.Dense(512, activation= 'relu'),\n",
        "  tf.keras.layers.Dense(3, activation= 'softmax')\n",
        "])\n",
        "\n",
        "model.summary()\n",
        "model.compile(loss='categorical_crossentropy',\n",
        "              optimizer=tf.optimizers.Adam(),\n",
        "              metrics=['accuracy'])"
      ],
      "execution_count": null,
      "outputs": [
        {
          "output_type": "stream",
          "text": [
            "Model: \"sequential\"\n",
            "_________________________________________________________________\n",
            "Layer (type)                 Output Shape              Param #   \n",
            "=================================================================\n",
            "conv2d (Conv2D)              (None, 148, 148, 32)      896       \n",
            "_________________________________________________________________\n",
            "max_pooling2d (MaxPooling2D) (None, 74, 74, 32)        0         \n",
            "_________________________________________________________________\n",
            "conv2d_1 (Conv2D)            (None, 72, 72, 64)        18496     \n",
            "_________________________________________________________________\n",
            "max_pooling2d_1 (MaxPooling2 (None, 36, 36, 64)        0         \n",
            "_________________________________________________________________\n",
            "conv2d_2 (Conv2D)            (None, 34, 34, 128)       73856     \n",
            "_________________________________________________________________\n",
            "max_pooling2d_2 (MaxPooling2 (None, 17, 17, 128)       0         \n",
            "_________________________________________________________________\n",
            "flatten (Flatten)            (None, 36992)             0         \n",
            "_________________________________________________________________\n",
            "dropout (Dropout)            (None, 36992)             0         \n",
            "_________________________________________________________________\n",
            "dense (Dense)                (None, 512)               18940416  \n",
            "_________________________________________________________________\n",
            "dense_1 (Dense)              (None, 3)                 1539      \n",
            "=================================================================\n",
            "Total params: 19,035,203\n",
            "Trainable params: 19,035,203\n",
            "Non-trainable params: 0\n",
            "_________________________________________________________________\n"
          ],
          "name": "stdout"
        }
      ]
    },
    {
      "cell_type": "markdown",
      "metadata": {
        "id": "hXHtuu6vy96S"
      },
      "source": [
        "Setelah membuat arsitektur dari CNN, kemudian memanggil fungsi compile pada object model, dan tentukan loss function serta optimizer.\n",
        "\n",
        "compile model dengan optimizer = 'Adam' dan loss function = 'categorical_crossentropy'\n",
        "\n",
        "loss function pada kasus klasifikasi 2 class dan 3 class berbeda. 2 class menggunakan 'binary crossentropy' sedangkan 3 class menggunakan 'categorical_crossentropy'."
      ]
    },
    {
      "cell_type": "code",
      "metadata": {
        "colab": {
          "base_uri": "https://localhost:8080/"
        },
        "id": "8CT20fcrxeI8",
        "outputId": "72ac361d-0354-48b5-c668-533d151ec60c"
      },
      "source": [
        "history = model.fit(\n",
        "    train_generator,\n",
        "    steps_per_epoch = 41, # 1312 images = batch_size * steps\n",
        "    epochs = 20,\n",
        "    validation_data = validation_generator,\n",
        "    validation_steps = 27, # 876 images = batch_size * steps\n",
        "    verbose =2,\n",
        "      callbacks=[callbacks]\n",
        ")"
      ],
      "execution_count": null,
      "outputs": [
        {
          "output_type": "stream",
          "text": [
            "Epoch 1/20\n",
            "41/41 - 83s - loss: 1.0614 - accuracy: 0.4649 - val_loss: 0.8943 - val_accuracy: 0.5266\n",
            "Epoch 2/20\n",
            "41/41 - 82s - loss: 0.6283 - accuracy: 0.7523 - val_loss: 0.3712 - val_accuracy: 0.8738\n",
            "Epoch 3/20\n",
            "41/41 - 81s - loss: 0.3313 - accuracy: 0.8727 - val_loss: 0.2436 - val_accuracy: 0.9225\n",
            "Epoch 4/20\n",
            "41/41 - 81s - loss: 0.2543 - accuracy: 0.9062 - val_loss: 0.2364 - val_accuracy: 0.9178\n",
            "Epoch 5/20\n",
            "41/41 - 83s - loss: 0.2621 - accuracy: 0.9062 - val_loss: 0.2925 - val_accuracy: 0.9016\n",
            "Epoch 6/20\n",
            "41/41 - 81s - loss: 0.2153 - accuracy: 0.9184 - val_loss: 0.3123 - val_accuracy: 0.8958\n",
            "Epoch 7/20\n",
            "41/41 - 81s - loss: 0.1877 - accuracy: 0.9360 - val_loss: 0.1795 - val_accuracy: 0.9340\n",
            "Epoch 8/20\n",
            "41/41 - 81s - loss: 0.1547 - accuracy: 0.9459 - val_loss: 0.1866 - val_accuracy: 0.9340\n",
            "Epoch 9/20\n",
            "41/41 - 81s - loss: 0.1503 - accuracy: 0.9489 - val_loss: 0.1495 - val_accuracy: 0.9444\n",
            "Epoch 10/20\n",
            "41/41 - 81s - loss: 0.1639 - accuracy: 0.9451 - val_loss: 0.1754 - val_accuracy: 0.9433\n",
            "Epoch 11/20\n",
            "41/41 - 81s - loss: 0.1396 - accuracy: 0.9520 - val_loss: 0.1938 - val_accuracy: 0.9294\n",
            "Epoch 12/20\n",
            "41/41 - 81s - loss: 0.1089 - accuracy: 0.9657 - val_loss: 0.1501 - val_accuracy: 0.9549\n",
            "Epoch 13/20\n",
            "41/41 - 81s - loss: 0.0995 - accuracy: 0.9642 - val_loss: 0.1217 - val_accuracy: 0.9549\n",
            "Epoch 14/20\n",
            "41/41 - 81s - loss: 0.0958 - accuracy: 0.9688 - val_loss: 0.2605 - val_accuracy: 0.9190\n",
            "Epoch 15/20\n",
            "41/41 - 81s - loss: 0.0944 - accuracy: 0.9672 - val_loss: 0.1236 - val_accuracy: 0.9606\n",
            "Epoch 16/20\n",
            "41/41 - 80s - loss: 0.0799 - accuracy: 0.9703 - val_loss: 0.1440 - val_accuracy: 0.9618\n",
            "\n",
            "Akurasi melewati 97%, hentikan proses training!\n"
          ],
          "name": "stdout"
        }
      ]
    },
    {
      "cell_type": "markdown",
      "metadata": {
        "id": "Qpw20-uDzJ1B"
      },
      "source": [
        "Meliat Grafik dari 'loss dan training loss' serta 'training accuracy dan validation accuracy'."
      ]
    },
    {
      "cell_type": "code",
      "metadata": {
        "colab": {
          "base_uri": "https://localhost:8080/",
          "height": 295
        },
        "id": "WmTsVVRwxezL",
        "outputId": "e153f1a6-1995-43d8-e226-7be9844cfaeb"
      },
      "source": [
        "# plot loss train & validation\n",
        "plt.plot(history.history['loss'], 'r', label='Training Loss')\n",
        "plt.plot(history.history['val_loss'], 'b', label='Validation Loss')\n",
        "plt.title('Loss & Validation Loss')\n",
        "plt.ylabel('Value')\n",
        "plt.xlabel('Epoch')\n",
        "plt.legend(loc=\"upper right\")\n",
        "plt.show()"
      ],
      "execution_count": null,
      "outputs": [
        {
          "output_type": "display_data",
          "data": {
            "image/png": "[encoded data removed]",
            "text/plain": [
              "<Figure size 432x288 with 1 Axes>"
            ]
          },
          "metadata": {
            "tags": [],
            "needs_background": "light"
          }
        }
      ]
    },
    {
      "cell_type": "code",
      "metadata": {
        "colab": {
          "base_uri": "https://localhost:8080/",
          "height": 295
        },
        "id": "haf53MdwxuxD",
        "outputId": "92440552-d19f-4e9e-a143-928f25bfa574"
      },
      "source": [
        "# plot accuracy train & validation\n",
        "plt.plot(history.history['accuracy'], 'r', label='Training Accuracy')\n",
        "plt.plot(history.history['val_accuracy'], 'b', label='Validation Accuracy')\n",
        "plt.title('Accuracy & Validation Accuracy')\n",
        "plt.ylabel('Value')\n",
        "plt.xlabel('Epoch')\n",
        "plt.legend(loc=\"lower right\")\n",
        "plt.show()"
      ],
      "execution_count": null,
      "outputs": [
        {
          "output_type": "display_data",
          "data": {
            "image/png": "[encoded data removed]",
            "text/plain": [
              "<Figure size 432x288 with 1 Axes>"
            ]
          },
          "metadata": {
            "tags": [],
            "needs_background": "light"
          }
        }
      ]
    },
    {
      "cell_type": "markdown",
      "metadata": {
        "id": "zOS4nVMBz1q3"
      },
      "source": [
        "Mengunggah gambar untuk diprediksi"
      ]
    },
    {
      "cell_type": "code",
      "metadata": {
        "colab": {
          "base_uri": "https://localhost:8080/",
          "height": 38
        },
        "id": "4xOeWSYqxxjx",
        "outputId": "fda82652-3050-468d-dbbb-482ea6765fd8"
      },
      "source": [
        "from google.colab import files\n",
        "from keras.preprocessing import image\n",
        "import matplotlib.pyplot as plt\n",
        "import matplotlib.image as mpimg\n",
        "import matplotlib.pyplot as plt\n",
        "import matplotlib.image as mpimg\n",
        "%matplotlib inline\n",
        "\n",
        "uploaded = files.upload()\n",
        "\n",
        "for fn in uploaded.keys():\n",
        "\n",
        "  path = fn\n",
        "  img = image.load_img(path, target_size =(150,150))\n",
        "  imgplot = plt.imshow(img)\n",
        "  x = image.img_to_array(img)\n",
        "  x = np.expand_dims(x, axis=0)\n",
        "\n",
        "  images = np.vstack([x])\n",
        "  classes = model.predict(images, batch_size=10)"
      ],
      "execution_count": null,
      "outputs": [
        {
          "output_type": "display_data",
          "data": {
            "text/plain": [
              "<IPython.core.display.HTML object>"
            ],
            "text/html": [
              "\n",
              "     <input type=\"file\" id=\"files-7e043b9f-9275-4c02-bfd1-8e3a477b3099\" name=\"files[]\" multiple disabled\n",
              "        style=\"border:none\" />\n",
              "     <output id=\"result-7e043b9f-9275-4c02-bfd1-8e3a477b3099\">\n",
              "      Upload widget is only available when the cell has been executed in the\n",
              "      current browser session. Please rerun this cell to enable.\n",
              "      </output>\n",
              "      <script>// Copyright 2017 Google LLC\n",
              "//\n",
              "// Licensed under the Apache License, Version 2.0 (the \"License\");\n",
              "// you may not use this file except in compliance with the License.\n",
              "// You may obtain a copy of the License at\n",
              "//\n",
              "//      http://www.apache.org/licenses/LICENSE-2.0\n",
              "//\n",
              "// Unless required by applicable law or agreed to in writing, software\n",
              "// distributed under the License is distributed on an \"AS IS\" BASIS,\n",
              "// WITHOUT WARRANTIES OR CONDITIONS OF ANY KIND, either express or implied.\n",
              "// See the License for the specific language governing permissions and\n",
              "// limitations under the License.\n",
              "\n",
              "/**\n",
              " * @fileoverview Helpers for google.colab Python module.\n",
              " */\n",
              "(function(scope) {\n",
              "function span(text, styleAttributes = {}) {\n",
              "  const element = document.createElement('span');\n",
              "  element.textContent = text;\n",
              "  for (const key of Object.keys(styleAttributes)) {\n",
              "    element.style[key] = styleAttributes[key];\n",
              "  }\n",
              "  return element;\n",
              "}\n",
              "\n",
              "// Max number of bytes which will be uploaded at a time.\n",
              "const MAX_PAYLOAD_SIZE = 100 * 1024;\n",
              "\n",
              "function _uploadFiles(inputId, outputId) {\n",
              "  const steps = uploadFilesStep(inputId, outputId);\n",
              "  const outputElement = document.getElementById(outputId);\n",
              "  // Cache steps on the outputElement to make it available for the next call\n",
              "  // to uploadFilesContinue from Python.\n",
              "  outputElement.steps = steps;\n",
              "\n",
              "  return _uploadFilesContinue(outputId);\n",
              "}\n",
              "\n",
              "// This is roughly an async generator (not supported in the browser yet),\n",
              "// where there are multiple asynchronous steps and the Python side is going\n",
              "// to poll for completion of each step.\n",
              "// This uses a Promise to block the python side on completion of each step,\n",
              "// then passes the result of the previous step as the input to the next step.\n",
              "function _uploadFilesContinue(outputId) {\n",
              "  const outputElement = document.getElementById(outputId);\n",
              "  const steps = outputElement.steps;\n",
              "\n",
              "  const next = steps.next(outputElement.lastPromiseValue);\n",
              "  return Promise.resolve(next.value.promise).then((value) => {\n",
              "    // Cache the last promise value to make it available to the next\n",
              "    // step of the generator.\n",
              "    outputElement.lastPromiseValue = value;\n",
              "    return next.value.response;\n",
              "  });\n",
              "}\n",
              "\n",
              "/**\n",
              " * Generator function which is called between each async step of the upload\n",
              " * process.\n",
              " * @param {string} inputId Element ID of the input file picker element.\n",
              " * @param {string} outputId Element ID of the output display.\n",
              " * @return {!Iterable<!Object>} Iterable of next steps.\n",
              " */\n",
              "function* uploadFilesStep(inputId, outputId) {\n",
              "  const inputElement = document.getElementById(inputId);\n",
              "  inputElement.disabled = false;\n",
              "\n",
              "  const outputElement = document.getElementById(outputId);\n",
              "  outputElement.innerHTML = '';\n",
              "\n",
              "  const pickedPromise = new Promise((resolve) => {\n",
              "    inputElement.addEventListener('change', (e) => {\n",
              "      resolve(e.target.files);\n",
              "    });\n",
              "  });\n",
              "\n",
              "  const cancel = document.createElement('button');\n",
              "  inputElement.parentElement.appendChild(cancel);\n",
              "  cancel.textContent = 'Cancel upload';\n",
              "  const cancelPromise = new Promise((resolve) => {\n",
              "    cancel.onclick = () => {\n",
              "      resolve(null);\n",
              "    };\n",
              "  });\n",
              "\n",
              "  // Wait for the user to pick the files.\n",
              "  const files = yield {\n",
              "    promise: Promise.race([pickedPromise, cancelPromise]),\n",
              "    response: {\n",
              "      action: 'starting',\n",
              "    }\n",
              "  };\n",
              "\n",
              "  cancel.remove();\n",
              "\n",
              "  // Disable the input element since further picks are not allowed.\n",
              "  inputElement.disabled = true;\n",
              "\n",
              "  if (!files) {\n",
              "    return {\n",
              "      response: {\n",
              "        action: 'complete',\n",
              "      }\n",
              "    };\n",
              "  }\n",
              "\n",
              "  for (const file of files) {\n",
              "    const li = document.createElement('li');\n",
              "    li.append(span(file.name, {fontWeight: 'bold'}));\n",
              "    li.append(span(\n",
              "        `(${file.type || 'n/a'}) - ${file.size} bytes, ` +\n",
              "        `last modified: ${\n",
              "            file.lastModifiedDate ? file.lastModifiedDate.toLocaleDateString() :\n",
              "                                    'n/a'} - `));\n",
              "    const percent = span('0% done');\n",
              "    li.appendChild(percent);\n",
              "\n",
              "    outputElement.appendChild(li);\n",
              "\n",
              "    const fileDataPromise = new Promise((resolve) => {\n",
              "      const reader = new FileReader();\n",
              "      reader.onload = (e) => {\n",
              "        resolve(e.target.result);\n",
              "      };\n",
              "      reader.readAsArrayBuffer(file);\n",
              "    });\n",
              "    // Wait for the data to be ready.\n",
              "    let fileData = yield {\n",
              "      promise: fileDataPromise,\n",
              "      response: {\n",
              "        action: 'continue',\n",
              "      }\n",
              "    };\n",
              "\n",
              "    // Use a chunked sending to avoid message size limits. See b/62115660.\n",
              "    let position = 0;\n",
              "    do {\n",
              "      const length = Math.min(fileData.byteLength - position, MAX_PAYLOAD_SIZE);\n",
              "      const chunk = new Uint8Array(fileData, position, length);\n",
              "      position += length;\n",
              "\n",
              "      const base64 = btoa(String.fromCharCode.apply(null, chunk));\n",
              "      yield {\n",
              "        response: {\n",
              "          action: 'append',\n",
              "          file: file.name,\n",
              "          data: base64,\n",
              "        },\n",
              "      };\n",
              "\n",
              "      let percentDone = fileData.byteLength === 0 ?\n",
              "          100 :\n",
              "          Math.round((position / fileData.byteLength) * 100);\n",
              "      percent.textContent = `${percentDone}% done`;\n",
              "\n",
              "    } while (position < fileData.byteLength);\n",
              "  }\n",
              "\n",
              "  // All done.\n",
              "  yield {\n",
              "    response: {\n",
              "      action: 'complete',\n",
              "    }\n",
              "  };\n",
              "}\n",
              "\n",
              "scope.google = scope.google || {};\n",
              "scope.google.colab = scope.google.colab || {};\n",
              "scope.google.colab._files = {\n",
              "  _uploadFiles,\n",
              "  _uploadFilesContinue,\n",
              "};\n",
              "})(self);\n",
              "</script> "
            ]
          },
          "metadata": {}
        }
      ]
    },
    {
      "cell_type": "code",
      "metadata": {
        "colab": {
          "base_uri": "https://localhost:8080/"
        },
        "id": "rqJ1FnufaFLX",
        "outputId": "6708bb56-8c3c-4fe4-de6f-5cb901048ee5"
      },
      "source": [
        "  print(fn)\n",
        "  if classes[0,0]!=0:\n",
        "    print('Gunting')\n",
        "  elif classes[0,1]!=0:\n",
        "    print('Batu')\n",
        "  else:\n",
        "    print('Kertas')"
      ],
      "execution_count": null,
      "outputs": [
        {
          "output_type": "stream",
          "text": [
            "IMG_20210625_011714.jpg\n",
            "Gunting\n"
          ],
          "name": "stdout"
        }
      ]
    }
  ]
}